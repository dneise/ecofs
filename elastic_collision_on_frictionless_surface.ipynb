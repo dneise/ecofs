{
 "cells": [
  {
   "cell_type": "markdown",
   "metadata": {},
   "source": [
    "# Elastic Collisions on Frictionless Surface\n",
    "\n",
    "We have a small mass `m` and a big mass `M`. At the beginning `M` moves with velocity `v` towards `m`. The question is how many collisions `N` do we observe when $M = k \\cdot m$ with $k > 1$.\n",
    "And then further how does $N$ behave for $k \\rightarrow \\infty$\n",
    "\n",
    "![sketch](small.jpg)\n",
    "\n",
    "I am too lazy too derive these equations here, but looking here:\n",
    "http://www.sciencecalculators.org/mechanics/collisions/\n",
    "\n",
    "we see how the final velocities v1 and v2 are for m1 and m2 given their initial velocities u1 and u2, so lets write that into a little function"
   ]
  },
  {
   "cell_type": "code",
   "execution_count": 1,
   "metadata": {},
   "outputs": [],
   "source": [
    "import numpy as np"
   ]
  },
  {
   "cell_type": "code",
   "execution_count": 2,
   "metadata": {},
   "outputs": [],
   "source": [
    "def final_velocities(m1, m2, u1, u2):\n",
    "    '''calculate final velocities after full elastic collision\n",
    "    \n",
    "    m1 and m2 : masses \n",
    "    u1 and u2 : initial velocities\n",
    "    \n",
    "    from: www.sciencecalculators.org/mechanics/collisions/\n",
    "    '''\n",
    "\n",
    "    v1 = (\n",
    "        (\n",
    "            u1 * (m1 - m2) + 2 * m2 * u2\n",
    "        ) / (\n",
    "            m1 + m2\n",
    "        )\n",
    "    )\n",
    "    \n",
    "    v2 = (\n",
    "        (\n",
    "            u2 * (m2 - m1) + 2 * m1 * u1\n",
    "        ) / (\n",
    "            m1 + m2\n",
    "        )\n",
    "    )\n",
    "    \n",
    "    \n",
    "    return v1, v2"
   ]
  },
  {
   "cell_type": "markdown",
   "metadata": {},
   "source": [
    "Now .. how do we go about this? \n",
    "\n",
    "For a numerical simulation, we need some numbers. So let's just assume: \n",
    "\n",
    " * m = 1\n",
    " * k = 10, so M = 10\n",
    " * V = 1 (the initial speed of M)\n",
    " * v = 0 (the initial speed of m)\n",
    " \n",
    "We also say positive velocities go towards the wall, and negative velocities go away from the wall.\n",
    "\n",
    "So we have these cases:\n",
    "\n",
    " * v > V > 0: both masses run towards the wall, but m is faster, then m will collide with the wall and v will flip its sign.\n",
    " * v < 0 and V > 0: M is still heading towards the wall, and will soon collide with m.\n",
    " * v < V < 0: both masses run away from the wall, but m is faster and will still reach M and give it a bit more momentum.\n",
    " * V < v < 0: both masses run away from the wall, but M is faster and thus m will never collide with M again. \n",
    " * V < 0 and v > 0: M runs away from the wall but m will collide with the wall next.\n",
    "\n",
    "So lets try to implement these cases somehow \n"
   ]
  },
  {
   "cell_type": "code",
   "execution_count": 3,
   "metadata": {},
   "outputs": [
    {
     "name": "stdout",
     "output_type": "stream",
     "text": [
      "Number of collisions 10\n"
     ]
    }
   ],
   "source": [
    "m = 1\n",
    "k = 10\n",
    "M = k * m\n",
    "V = 10\n",
    "v = 0\n",
    "\n",
    "collisions = 0\n",
    "\n",
    "while True:\n",
    "    if v > V and V >= 0: \n",
    "        # flip sign of v\n",
    "        collisions += 1\n",
    "        v = -v\n",
    "    elif v <= 0 and V >= 0:\n",
    "        collisions += 1\n",
    "        v, V = final_velocities(m1=m, m2=M, u1=v, u2=V)\n",
    "    elif v < V and V <= 0:\n",
    "        collisions += 1\n",
    "        v, V = final_velocities(m1=m, m2=M, u1=v, u2=V)\n",
    "    elif V < v and v <= 0: \n",
    "        # end case        \n",
    "        break\n",
    "    elif V <= 0 and v >= 0:\n",
    "        collisions += 1\n",
    "        v = -v\n",
    "    else:\n",
    "        raise Exception('Cannot be')\n",
    "    \n",
    "print(\"Number of collisions\", collisions)"
   ]
  },
  {
   "cell_type": "markdown",
   "metadata": {},
   "source": [
    "At this point I realize, I could have written this long `if...elif...else` block a bit shorter, so let's do that and put it into a function"
   ]
  },
  {
   "cell_type": "code",
   "execution_count": 4,
   "metadata": {},
   "outputs": [],
   "source": [
    "def number_of_collisions(M, m=1, V=1, v=0):\n",
    "    '''calculate the number of collisions between m and M \n",
    "    with a fixed wall in positive v direction.\n",
    "    '''\n",
    "    N = 0\n",
    "    while True:\n",
    "        if v > V:\n",
    "            if v > 0:\n",
    "                # m collides with wall\n",
    "                v = -v\n",
    "            else:\n",
    "                # end case\n",
    "                break\n",
    "        else:\n",
    "            # M collides with m\n",
    "            v, V = final_velocities(m1=m, m2=M, u1=v, u2=V)\n",
    "        \n",
    "        # some kind of collision happened so we count up\n",
    "        N += 1\n",
    "    return N"
   ]
  },
  {
   "cell_type": "markdown",
   "metadata": {},
   "source": [
    "After playing around with this, I realize that I remembered the original question wrongly ... we do not get 31 collisions when `k=10` .. but when `k=100` .. there is a factor 2 in the exponent I missed."
   ]
  },
  {
   "cell_type": "code",
   "execution_count": 5,
   "metadata": {},
   "outputs": [
    {
     "name": "stdout",
     "output_type": "stream",
     "text": [
      "k:1.0e+00 -> N:3\n",
      "k:1.0e+02 -> N:31\n",
      "k:1.0e+04 -> N:314\n",
      "k:1.0e+06 -> N:3141\n",
      "k:1.0e+08 -> N:31415\n",
      "k:1.0e+10 -> N:314159\n",
      "k:1.0e+12 -> N:3141592\n"
     ]
    }
   ],
   "source": [
    "for half_exp in range(7):\n",
    "    M = 10**(2*half_exp)\n",
    "    N = number_of_collisions(M)\n",
    "    # since m=1, k = M/m == M in this case...\n",
    "    print(f'k:{M:.1e} -> N:{N}')"
   ]
  },
  {
   "cell_type": "markdown",
   "metadata": {},
   "source": [
    "Oookay so we solved the question using a little simulation, BUT ... usually 3blue1brown expects us to find this answer using analytical methods ... so \"real math\" .. not the stuff I was doing here .. and honestly I have no idea how to solve this ... Here is the video\n",
    "https://www.youtube.com/watch?v=HEfHFsfGXjs"
   ]
  },
  {
   "cell_type": "code",
   "execution_count": null,
   "metadata": {},
   "outputs": [],
   "source": []
  }
 ],
 "metadata": {
  "kernelspec": {
   "display_name": "Python 3",
   "language": "python",
   "name": "python3"
  },
  "language_info": {
   "codemirror_mode": {
    "name": "ipython",
    "version": 3
   },
   "file_extension": ".py",
   "mimetype": "text/x-python",
   "name": "python",
   "nbconvert_exporter": "python",
   "pygments_lexer": "ipython3",
   "version": "3.7.0"
  }
 },
 "nbformat": 4,
 "nbformat_minor": 2
}
